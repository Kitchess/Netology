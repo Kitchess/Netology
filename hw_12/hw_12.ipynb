{
  "nbformat": 4,
  "nbformat_minor": 0,
  "metadata": {
    "colab": {
      "name": "hw_12.ipynb",
      "provenance": [],
      "collapsed_sections": [],
      "toc_visible": true
    },
    "kernelspec": {
      "name": "python3",
      "display_name": "Python 3"
    }
  },
  "cells": [
    {
      "cell_type": "markdown",
      "metadata": {
        "id": "aYYoght3tVtb"
      },
      "source": [
        "Задание 1\n",
        "\n",
        "Задание 1**\n",
        "Напишите функцию, которая классифицирует фильмы из материалов занятия по следующим правилам:\n",
        "- оценка 2 и меньше - низкий рейтинг\n",
        "- оценка 4 и меньше - средний рейтинг\n",
        "- оценка 4.5 и 5 - высокий рейтинг\n",
        "\n",
        "Результат классификации запишите в столбец class"
      ]
    },
    {
      "cell_type": "code",
      "metadata": {
        "id": "rkqROE8UtShX"
      },
      "source": [
        "import pandas as pd"
      ],
      "execution_count": null,
      "outputs": []
    },
    {
      "cell_type": "code",
      "metadata": {
        "id": "eusaCjX_vif5",
        "outputId": "f386e3c7-f649-48e7-b11f-8bcbe1336d8c",
        "colab": {
          "base_uri": "https://localhost:8080/",
          "height": 204
        }
      },
      "source": [
        "df_ratings = pd.read_csv('https://github.com/Kitchess/Netology/tree/master/hw_12/ratings.csv')\n",
        "\n",
        "df_ratings.head()"
      ],
      "execution_count": null,
      "outputs": [
        {
          "output_type": "execute_result",
          "data": {
            "text/html": [
              "<div>\n",
              "<style scoped>\n",
              "    .dataframe tbody tr th:only-of-type {\n",
              "        vertical-align: middle;\n",
              "    }\n",
              "\n",
              "    .dataframe tbody tr th {\n",
              "        vertical-align: top;\n",
              "    }\n",
              "\n",
              "    .dataframe thead th {\n",
              "        text-align: right;\n",
              "    }\n",
              "</style>\n",
              "<table border=\"1\" class=\"dataframe\">\n",
              "  <thead>\n",
              "    <tr style=\"text-align: right;\">\n",
              "      <th></th>\n",
              "      <th>userId</th>\n",
              "      <th>movieId</th>\n",
              "      <th>rating</th>\n",
              "      <th>timestamp</th>\n",
              "    </tr>\n",
              "  </thead>\n",
              "  <tbody>\n",
              "    <tr>\n",
              "      <th>0</th>\n",
              "      <td>1</td>\n",
              "      <td>31</td>\n",
              "      <td>2.5</td>\n",
              "      <td>1260759144</td>\n",
              "    </tr>\n",
              "    <tr>\n",
              "      <th>1</th>\n",
              "      <td>1</td>\n",
              "      <td>1029</td>\n",
              "      <td>3.0</td>\n",
              "      <td>1260759179</td>\n",
              "    </tr>\n",
              "    <tr>\n",
              "      <th>2</th>\n",
              "      <td>1</td>\n",
              "      <td>1061</td>\n",
              "      <td>3.0</td>\n",
              "      <td>1260759182</td>\n",
              "    </tr>\n",
              "    <tr>\n",
              "      <th>3</th>\n",
              "      <td>1</td>\n",
              "      <td>1129</td>\n",
              "      <td>2.0</td>\n",
              "      <td>1260759185</td>\n",
              "    </tr>\n",
              "    <tr>\n",
              "      <th>4</th>\n",
              "      <td>1</td>\n",
              "      <td>1172</td>\n",
              "      <td>4.0</td>\n",
              "      <td>1260759205</td>\n",
              "    </tr>\n",
              "  </tbody>\n",
              "</table>\n",
              "</div>"
            ],
            "text/plain": [
              "   userId  movieId  rating   timestamp\n",
              "0       1       31     2.5  1260759144\n",
              "1       1     1029     3.0  1260759179\n",
              "2       1     1061     3.0  1260759182\n",
              "3       1     1129     2.0  1260759185\n",
              "4       1     1172     4.0  1260759205"
            ]
          },
          "metadata": {
            "tags": []
          },
          "execution_count": 3
        }
      ]
    },
    {
      "cell_type": "code",
      "metadata": {
        "id": "IRGm8YxvxMfJ"
      },
      "source": [
        "def classification(row):\n",
        "  if row['rating'] <= 2:\n",
        "    return 'низкий рейтинг'\n",
        "  elif row['rating'] <= 4 and row['rating'] > 2:\n",
        "    return 'средний рейтинг'\n",
        "  else:\n",
        "    return 'высокий рейтинг'"
      ],
      "execution_count": null,
      "outputs": []
    },
    {
      "cell_type": "code",
      "metadata": {
        "id": "n3en74-Ez7u2",
        "outputId": "13954aa4-f9eb-42a5-a7fa-8c37fea90fbf",
        "colab": {
          "base_uri": "https://localhost:8080/",
          "height": 204
        }
      },
      "source": [
        "df_ratings['class'] = df_ratings.apply(classification, axis=1)\n",
        "\n",
        "df_ratings.head()"
      ],
      "execution_count": null,
      "outputs": [
        {
          "output_type": "execute_result",
          "data": {
            "text/html": [
              "<div>\n",
              "<style scoped>\n",
              "    .dataframe tbody tr th:only-of-type {\n",
              "        vertical-align: middle;\n",
              "    }\n",
              "\n",
              "    .dataframe tbody tr th {\n",
              "        vertical-align: top;\n",
              "    }\n",
              "\n",
              "    .dataframe thead th {\n",
              "        text-align: right;\n",
              "    }\n",
              "</style>\n",
              "<table border=\"1\" class=\"dataframe\">\n",
              "  <thead>\n",
              "    <tr style=\"text-align: right;\">\n",
              "      <th></th>\n",
              "      <th>userId</th>\n",
              "      <th>movieId</th>\n",
              "      <th>rating</th>\n",
              "      <th>timestamp</th>\n",
              "      <th>class</th>\n",
              "    </tr>\n",
              "  </thead>\n",
              "  <tbody>\n",
              "    <tr>\n",
              "      <th>0</th>\n",
              "      <td>1</td>\n",
              "      <td>31</td>\n",
              "      <td>2.5</td>\n",
              "      <td>1260759144</td>\n",
              "      <td>средний рейтинг</td>\n",
              "    </tr>\n",
              "    <tr>\n",
              "      <th>1</th>\n",
              "      <td>1</td>\n",
              "      <td>1029</td>\n",
              "      <td>3.0</td>\n",
              "      <td>1260759179</td>\n",
              "      <td>средний рейтинг</td>\n",
              "    </tr>\n",
              "    <tr>\n",
              "      <th>2</th>\n",
              "      <td>1</td>\n",
              "      <td>1061</td>\n",
              "      <td>3.0</td>\n",
              "      <td>1260759182</td>\n",
              "      <td>средний рейтинг</td>\n",
              "    </tr>\n",
              "    <tr>\n",
              "      <th>3</th>\n",
              "      <td>1</td>\n",
              "      <td>1129</td>\n",
              "      <td>2.0</td>\n",
              "      <td>1260759185</td>\n",
              "      <td>низкий рейтинг</td>\n",
              "    </tr>\n",
              "    <tr>\n",
              "      <th>4</th>\n",
              "      <td>1</td>\n",
              "      <td>1172</td>\n",
              "      <td>4.0</td>\n",
              "      <td>1260759205</td>\n",
              "      <td>средний рейтинг</td>\n",
              "    </tr>\n",
              "  </tbody>\n",
              "</table>\n",
              "</div>"
            ],
            "text/plain": [
              "   userId  movieId  rating   timestamp            class\n",
              "0       1       31     2.5  1260759144  средний рейтинг\n",
              "1       1     1029     3.0  1260759179  средний рейтинг\n",
              "2       1     1061     3.0  1260759182  средний рейтинг\n",
              "3       1     1129     2.0  1260759185   низкий рейтинг\n",
              "4       1     1172     4.0  1260759205  средний рейтинг"
            ]
          },
          "metadata": {
            "tags": []
          },
          "execution_count": 6
        }
      ]
    },
    {
      "cell_type": "markdown",
      "metadata": {
        "id": "uJR6U46R1U2q"
      },
      "source": [
        "Задание 2\n",
        "\n",
        "Используем файл keywords.csv.\n",
        "\n",
        "Необходимо написать гео-классификатор, который каждой строке сможет выставить географическую принадлежность определенному региону. Т. е. если поисковый запрос содержит название города региона, то в столбце ‘region’ пишется название этого региона. Если поисковый запрос не содержит названия города, то ставим ‘undefined’.\n",
        "\n",
        "Правила распределения по регионам Центр, Северо-Запад и Дальний Восток:\n",
        "\n",
        "geo_data = {}\n",
        "\n",
        "Результат классификации запишите в отдельный столбец region."
      ]
    },
    {
      "cell_type": "code",
      "metadata": {
        "id": "su0BdKjw1LJR",
        "outputId": "6c9927c2-d7d2-475c-8ccd-bab4e5198f66",
        "colab": {
          "base_uri": "https://localhost:8080/",
          "height": 204
        }
      },
      "source": [
        "df_keywords = pd.read_csv('https://github.com/Kitchess/Netology/tree/master/hw_12/keywords.csv')\n",
        "\n",
        "df_keywords.head()"
      ],
      "execution_count": null,
      "outputs": [
        {
          "output_type": "execute_result",
          "data": {
            "text/html": [
              "<div>\n",
              "<style scoped>\n",
              "    .dataframe tbody tr th:only-of-type {\n",
              "        vertical-align: middle;\n",
              "    }\n",
              "\n",
              "    .dataframe tbody tr th {\n",
              "        vertical-align: top;\n",
              "    }\n",
              "\n",
              "    .dataframe thead th {\n",
              "        text-align: right;\n",
              "    }\n",
              "</style>\n",
              "<table border=\"1\" class=\"dataframe\">\n",
              "  <thead>\n",
              "    <tr style=\"text-align: right;\">\n",
              "      <th></th>\n",
              "      <th>keyword</th>\n",
              "      <th>shows</th>\n",
              "    </tr>\n",
              "  </thead>\n",
              "  <tbody>\n",
              "    <tr>\n",
              "      <th>0</th>\n",
              "      <td>вк</td>\n",
              "      <td>64292779</td>\n",
              "    </tr>\n",
              "    <tr>\n",
              "      <th>1</th>\n",
              "      <td>одноклассники</td>\n",
              "      <td>63810309</td>\n",
              "    </tr>\n",
              "    <tr>\n",
              "      <th>2</th>\n",
              "      <td>порно</td>\n",
              "      <td>41747114</td>\n",
              "    </tr>\n",
              "    <tr>\n",
              "      <th>3</th>\n",
              "      <td>ютуб</td>\n",
              "      <td>39995567</td>\n",
              "    </tr>\n",
              "    <tr>\n",
              "      <th>4</th>\n",
              "      <td>вконтакте</td>\n",
              "      <td>21014195</td>\n",
              "    </tr>\n",
              "  </tbody>\n",
              "</table>\n",
              "</div>"
            ],
            "text/plain": [
              "         keyword     shows\n",
              "0             вк  64292779\n",
              "1  одноклассники  63810309\n",
              "2          порно  41747114\n",
              "3           ютуб  39995567\n",
              "4      вконтакте  21014195"
            ]
          },
          "metadata": {
            "tags": []
          },
          "execution_count": 10
        }
      ]
    },
    {
      "cell_type": "code",
      "metadata": {
        "id": "ohQA3gF84Q1T"
      },
      "source": [
        "geo_data = {\n",
        "'Центр':['москва', 'тула', 'ярославль'],\n",
        "'Северо-Запад':['петербург', 'псков', 'мурманск'],\n",
        "'Дальний Восток':['владивосток', 'сахалин', 'хабаровск'] \n",
        "}"
      ],
      "execution_count": null,
      "outputs": []
    },
    {
      "cell_type": "code",
      "metadata": {
        "id": "HgIsZHe15As4"
      },
      "source": [
        "def geo_classification(row):\n",
        "  data = row['keyword'].split(' ')\n",
        "  \n",
        "  for region, city_list in geo_data.items():\n",
        "    for word in data:\n",
        "      if word in city_list:\n",
        "        return region\n",
        "  if word not in city_list:\n",
        "    return 'undefined'"
      ],
      "execution_count": null,
      "outputs": []
    },
    {
      "cell_type": "code",
      "metadata": {
        "id": "yaC1IaYwCM4d",
        "outputId": "dd89fe06-3ce0-4455-89bb-cb66c0295bb7",
        "colab": {
          "base_uri": "https://localhost:8080/",
          "height": 419
        }
      },
      "source": [
        "df_keywords['region'] = df_keywords.apply(geo_classification, axis=1)\n",
        "\n",
        "df_keywords"
      ],
      "execution_count": null,
      "outputs": [
        {
          "output_type": "execute_result",
          "data": {
            "text/html": [
              "<div>\n",
              "<style scoped>\n",
              "    .dataframe tbody tr th:only-of-type {\n",
              "        vertical-align: middle;\n",
              "    }\n",
              "\n",
              "    .dataframe tbody tr th {\n",
              "        vertical-align: top;\n",
              "    }\n",
              "\n",
              "    .dataframe thead th {\n",
              "        text-align: right;\n",
              "    }\n",
              "</style>\n",
              "<table border=\"1\" class=\"dataframe\">\n",
              "  <thead>\n",
              "    <tr style=\"text-align: right;\">\n",
              "      <th></th>\n",
              "      <th>keyword</th>\n",
              "      <th>shows</th>\n",
              "      <th>region</th>\n",
              "    </tr>\n",
              "  </thead>\n",
              "  <tbody>\n",
              "    <tr>\n",
              "      <th>0</th>\n",
              "      <td>вк</td>\n",
              "      <td>64292779</td>\n",
              "      <td>undefined</td>\n",
              "    </tr>\n",
              "    <tr>\n",
              "      <th>1</th>\n",
              "      <td>одноклассники</td>\n",
              "      <td>63810309</td>\n",
              "      <td>undefined</td>\n",
              "    </tr>\n",
              "    <tr>\n",
              "      <th>2</th>\n",
              "      <td>порно</td>\n",
              "      <td>41747114</td>\n",
              "      <td>undefined</td>\n",
              "    </tr>\n",
              "    <tr>\n",
              "      <th>3</th>\n",
              "      <td>ютуб</td>\n",
              "      <td>39995567</td>\n",
              "      <td>undefined</td>\n",
              "    </tr>\n",
              "    <tr>\n",
              "      <th>4</th>\n",
              "      <td>вконтакте</td>\n",
              "      <td>21014195</td>\n",
              "      <td>undefined</td>\n",
              "    </tr>\n",
              "    <tr>\n",
              "      <th>...</th>\n",
              "      <td>...</td>\n",
              "      <td>...</td>\n",
              "      <td>...</td>\n",
              "    </tr>\n",
              "    <tr>\n",
              "      <th>99995</th>\n",
              "      <td>эльдорадо старый оскол</td>\n",
              "      <td>3705</td>\n",
              "      <td>undefined</td>\n",
              "    </tr>\n",
              "    <tr>\n",
              "      <th>99996</th>\n",
              "      <td>frigate для firefox</td>\n",
              "      <td>3630</td>\n",
              "      <td>undefined</td>\n",
              "    </tr>\n",
              "    <tr>\n",
              "      <th>99997</th>\n",
              "      <td>укрсиб</td>\n",
              "      <td>3630</td>\n",
              "      <td>undefined</td>\n",
              "    </tr>\n",
              "    <tr>\n",
              "      <th>99998</th>\n",
              "      <td>погода в ялте на неделю</td>\n",
              "      <td>3688</td>\n",
              "      <td>undefined</td>\n",
              "    </tr>\n",
              "    <tr>\n",
              "      <th>99999</th>\n",
              "      <td>ггму</td>\n",
              "      <td>3630</td>\n",
              "      <td>undefined</td>\n",
              "    </tr>\n",
              "  </tbody>\n",
              "</table>\n",
              "<p>100000 rows × 3 columns</p>\n",
              "</div>"
            ],
            "text/plain": [
              "                       keyword     shows     region\n",
              "0                           вк  64292779  undefined\n",
              "1                одноклассники  63810309  undefined\n",
              "2                        порно  41747114  undefined\n",
              "3                         ютуб  39995567  undefined\n",
              "4                    вконтакте  21014195  undefined\n",
              "...                        ...       ...        ...\n",
              "99995   эльдорадо старый оскол      3705  undefined\n",
              "99996      frigate для firefox      3630  undefined\n",
              "99997                   укрсиб      3630  undefined\n",
              "99998  погода в ялте на неделю      3688  undefined\n",
              "99999                     ггму      3630  undefined\n",
              "\n",
              "[100000 rows x 3 columns]"
            ]
          },
          "metadata": {
            "tags": []
          },
          "execution_count": 55
        }
      ]
    },
    {
      "cell_type": "code",
      "metadata": {
        "id": "zHxBvrKkS-Bz",
        "outputId": "a4b22c62-3cfd-4a17-e06e-c327f248be3c",
        "colab": {
          "base_uri": "https://localhost:8080/",
          "height": 419
        }
      },
      "source": [
        "df_keywords[(df_keywords['region']!='undefined')]"
      ],
      "execution_count": null,
      "outputs": [
        {
          "output_type": "execute_result",
          "data": {
            "text/html": [
              "<div>\n",
              "<style scoped>\n",
              "    .dataframe tbody tr th:only-of-type {\n",
              "        vertical-align: middle;\n",
              "    }\n",
              "\n",
              "    .dataframe tbody tr th {\n",
              "        vertical-align: top;\n",
              "    }\n",
              "\n",
              "    .dataframe thead th {\n",
              "        text-align: right;\n",
              "    }\n",
              "</style>\n",
              "<table border=\"1\" class=\"dataframe\">\n",
              "  <thead>\n",
              "    <tr style=\"text-align: right;\">\n",
              "      <th></th>\n",
              "      <th>keyword</th>\n",
              "      <th>shows</th>\n",
              "      <th>region</th>\n",
              "    </tr>\n",
              "  </thead>\n",
              "  <tbody>\n",
              "    <tr>\n",
              "      <th>127</th>\n",
              "      <td>авито москва</td>\n",
              "      <td>979292</td>\n",
              "      <td>Центр</td>\n",
              "    </tr>\n",
              "    <tr>\n",
              "      <th>370</th>\n",
              "      <td>авито ру санкт петербург</td>\n",
              "      <td>425134</td>\n",
              "      <td>Северо-Запад</td>\n",
              "    </tr>\n",
              "    <tr>\n",
              "      <th>849</th>\n",
              "      <td>авито ярославль</td>\n",
              "      <td>209581</td>\n",
              "      <td>Центр</td>\n",
              "    </tr>\n",
              "    <tr>\n",
              "      <th>1063</th>\n",
              "      <td>фарпост владивосток</td>\n",
              "      <td>176951</td>\n",
              "      <td>Дальний Восток</td>\n",
              "    </tr>\n",
              "    <tr>\n",
              "      <th>1236</th>\n",
              "      <td>банк санкт петербург</td>\n",
              "      <td>174375</td>\n",
              "      <td>Северо-Запад</td>\n",
              "    </tr>\n",
              "    <tr>\n",
              "      <th>...</th>\n",
              "      <td>...</td>\n",
              "      <td>...</td>\n",
              "      <td>...</td>\n",
              "    </tr>\n",
              "    <tr>\n",
              "      <th>99292</th>\n",
              "      <td>афиша кино москва на сегодня</td>\n",
              "      <td>3704</td>\n",
              "      <td>Центр</td>\n",
              "    </tr>\n",
              "    <tr>\n",
              "      <th>99590</th>\n",
              "      <td>авито ярославль автомобили с пробегом</td>\n",
              "      <td>3673</td>\n",
              "      <td>Центр</td>\n",
              "    </tr>\n",
              "    <tr>\n",
              "      <th>99808</th>\n",
              "      <td>полармед мурманск запись на прием</td>\n",
              "      <td>3719</td>\n",
              "      <td>Северо-Запад</td>\n",
              "    </tr>\n",
              "    <tr>\n",
              "      <th>99890</th>\n",
              "      <td>яндекс метро москва</td>\n",
              "      <td>4548</td>\n",
              "      <td>Центр</td>\n",
              "    </tr>\n",
              "    <tr>\n",
              "      <th>99922</th>\n",
              "      <td>авто ру ярославль</td>\n",
              "      <td>3712</td>\n",
              "      <td>Центр</td>\n",
              "    </tr>\n",
              "  </tbody>\n",
              "</table>\n",
              "<p>594 rows × 3 columns</p>\n",
              "</div>"
            ],
            "text/plain": [
              "                                     keyword   shows          region\n",
              "127                             авито москва  979292           Центр\n",
              "370                 авито ру санкт петербург  425134    Северо-Запад\n",
              "849                          авито ярославль  209581           Центр\n",
              "1063                     фарпост владивосток  176951  Дальний Восток\n",
              "1236                    банк санкт петербург  174375    Северо-Запад\n",
              "...                                      ...     ...             ...\n",
              "99292           афиша кино москва на сегодня    3704           Центр\n",
              "99590  авито ярославль автомобили с пробегом    3673           Центр\n",
              "99808      полармед мурманск запись на прием    3719    Северо-Запад\n",
              "99890                    яндекс метро москва    4548           Центр\n",
              "99922                      авто ру ярославль    3712           Центр\n",
              "\n",
              "[594 rows x 3 columns]"
            ]
          },
          "metadata": {
            "tags": []
          },
          "execution_count": 57
        }
      ]
    }
  ]
}
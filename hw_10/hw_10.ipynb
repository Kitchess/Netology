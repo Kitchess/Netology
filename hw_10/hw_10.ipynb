{
  "nbformat": 4,
  "nbformat_minor": 0,
  "metadata": {
    "colab": {
      "name": "hw_10.ipynb",
      "provenance": []
    },
    "kernelspec": {
      "name": "python3",
      "display_name": "Python 3"
    }
  },
  "cells": [
    {
      "cell_type": "markdown",
      "metadata": {
        "id": "zuqeKT934_lH",
        "colab_type": "text"
      },
      "source": [
        "Задание 1\n",
        "\n",
        "\n",
        "\n",
        "Создайте numpy array с элементами от числа N до 0 (например, для N = 10 это будет array([9, 8, 7, 6, 5, 4, 3, 2, 1, 0]))."
      ]
    },
    {
      "cell_type": "code",
      "metadata": {
        "id": "qlJr652W4OGm",
        "colab_type": "code",
        "colab": {}
      },
      "source": [
        "import numpy as np\n",
        "from numpy import linalg"
      ],
      "execution_count": 25,
      "outputs": []
    },
    {
      "cell_type": "code",
      "metadata": {
        "id": "2sgMRlKG5M8R",
        "colab_type": "code",
        "colab": {
          "base_uri": "https://localhost:8080/",
          "height": 34
        },
        "outputId": "b3420200-93fb-48dc-9236-2224ef878513"
      },
      "source": [
        "def desc_array(N):\n",
        "  x = np.arange(N)\n",
        "  x = x[::-1]\n",
        "  return x\n",
        "\n",
        "desc_array(10)"
      ],
      "execution_count": 18,
      "outputs": [
        {
          "output_type": "execute_result",
          "data": {
            "text/plain": [
              "array([9, 8, 7, 6, 5, 4, 3, 2, 1, 0])"
            ]
          },
          "metadata": {
            "tags": []
          },
          "execution_count": 18
        }
      ]
    },
    {
      "cell_type": "markdown",
      "metadata": {
        "id": "R-Y3Vc5p-4d4",
        "colab_type": "text"
      },
      "source": [
        "Задание 2\n",
        "\n",
        "Создайте диагональную матрицу с элементами от N до 0. Посчитайте сумму ее значений на диагонали.\n"
      ]
    },
    {
      "cell_type": "code",
      "metadata": {
        "id": "9UH4jfCm_g94",
        "colab_type": "code",
        "colab": {
          "base_uri": "https://localhost:8080/",
          "height": 34
        },
        "outputId": "c16f0da5-d64e-49ae-ed60-779e6429e43a"
      },
      "source": [
        "a = np.diag(desc_array(10), k=0)\n",
        "\n",
        "a.trace()"
      ],
      "execution_count": 24,
      "outputs": [
        {
          "output_type": "execute_result",
          "data": {
            "text/plain": [
              "45"
            ]
          },
          "metadata": {
            "tags": []
          },
          "execution_count": 24
        }
      ]
    },
    {
      "cell_type": "markdown",
      "metadata": {
        "id": "Baf3bdAXHeXw",
        "colab_type": "text"
      },
      "source": [
        "Задание 3\n",
        "\n",
        "Решите систему уравнений:\n",
        "\n",
        "4x + 2y + z = 4\n",
        "\n",
        "x + 3y = 12\n",
        "\n",
        "5y + 4z = -3\n"
      ]
    },
    {
      "cell_type": "code",
      "metadata": {
        "id": "dsyuCv66IYq1",
        "colab_type": "code",
        "colab": {
          "base_uri": "https://localhost:8080/",
          "height": 68
        },
        "outputId": "e113ad57-eaab-4ef2-bcf7-2e505c29a3b7"
      },
      "source": [
        "a = np.array([[4, 2, 1], [1, 3, 0], [0, 5, 4]])"
      ],
      "execution_count": 27,
      "outputs": [
        {
          "output_type": "execute_result",
          "data": {
            "text/plain": [
              "array([[4, 2, 1],\n",
              "       [1, 3, 0],\n",
              "       [0, 5, 4]])"
            ]
          },
          "metadata": {
            "tags": []
          },
          "execution_count": 27
        }
      ]
    },
    {
      "cell_type": "code",
      "metadata": {
        "id": "GCHeF9LBJNNQ",
        "colab_type": "code",
        "colab": {
          "base_uri": "https://localhost:8080/",
          "height": 34
        },
        "outputId": "3cf7627c-c457-48f9-939f-311b7cd8e4d4"
      },
      "source": [
        "b = np.array([4, 12, -3])\n"
      ],
      "execution_count": 28,
      "outputs": [
        {
          "output_type": "execute_result",
          "data": {
            "text/plain": [
              "array([ 4, 12, -3])"
            ]
          },
          "metadata": {
            "tags": []
          },
          "execution_count": 28
        }
      ]
    },
    {
      "cell_type": "code",
      "metadata": {
        "id": "f5T27LC9JZDN",
        "colab_type": "code",
        "colab": {
          "base_uri": "https://localhost:8080/",
          "height": 34
        },
        "outputId": "a5ceb1ec-ff09-44f9-f78d-6cdf8e5d9f31"
      },
      "source": [
        "linalg.solve(a, b)"
      ],
      "execution_count": 29,
      "outputs": [
        {
          "output_type": "execute_result",
          "data": {
            "text/plain": [
              "array([ 0.46666667,  3.84444444, -5.55555556])"
            ]
          },
          "metadata": {
            "tags": []
          },
          "execution_count": 29
        }
      ]
    },
    {
      "cell_type": "code",
      "metadata": {
        "id": "y98fVNDKKWuB",
        "colab_type": "code",
        "colab": {
          "base_uri": "https://localhost:8080/",
          "height": 34
        },
        "outputId": "74176275-de66-405d-a8a6-bf7a3a2a5c87"
      },
      "source": [
        "# проверяем верность решения\n",
        "\n",
        "np.allclose(np.dot(a, linalg.solve(a,b)), b)"
      ],
      "execution_count": 32,
      "outputs": [
        {
          "output_type": "execute_result",
          "data": {
            "text/plain": [
              "True"
            ]
          },
          "metadata": {
            "tags": []
          },
          "execution_count": 32
        }
      ]
    }
  ]
}
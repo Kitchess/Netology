{
  "nbformat": 4,
  "nbformat_minor": 0,
  "metadata": {
    "colab": {
      "name": "hw_4.ipynb",
      "provenance": []
    },
    "kernelspec": {
      "name": "python3",
      "display_name": "Python 3"
    }
  },
  "cells": [
    {
      "cell_type": "markdown",
      "metadata": {
        "id": "gLZodLNwjbrV",
        "colab_type": "text"
      },
      "source": [
        "Задание 1\n"
      ]
    },
    {
      "cell_type": "code",
      "metadata": {
        "id": "N3tbCYrAqKZX",
        "colab_type": "code",
        "colab": {
          "base_uri": "https://localhost:8080/",
          "height": 34
        },
        "outputId": "3aa013a0-ca14-4f95-bb50-a0b130dd89bf"
      },
      "source": [
        "ids = {'user1': [213, 213, 213, 15, 213],\n",
        "'user2': [54, 54, 119, 119, 119],\n",
        "'user3': [213, 98, 98, 35]}\n",
        "\n",
        "ids_set = set(sum(list(ids.values()),[]))\n",
        "print(ids_set)"
      ],
      "execution_count": null,
      "outputs": [
        {
          "output_type": "stream",
          "text": [
            "{98, 35, 15, 213, 54, 119}\n"
          ],
          "name": "stdout"
        }
      ]
    },
    {
      "cell_type": "markdown",
      "metadata": {
        "id": "d6kx8QgRqD07",
        "colab_type": "text"
      },
      "source": [
        "Задание 2"
      ]
    },
    {
      "cell_type": "code",
      "metadata": {
        "id": "uUsswDWHrBa5",
        "colab_type": "code",
        "colab": {}
      },
      "source": [
        "queries = [\n",
        "'смотреть сериалы онлайн',\n",
        "'новости спорта',\n",
        "'афиша кино',\n",
        "'курс доллара',\n",
        "'сериалы этим летом',\n",
        "'курс по питону',\n",
        "'сериалы про спорт',\n",
        "]\n"
      ],
      "execution_count": 23,
      "outputs": []
    },
    {
      "cell_type": "code",
      "metadata": {
        "id": "nJDEHZqZuAVU",
        "colab_type": "code",
        "colab": {}
      },
      "source": [
        "queries_set = {}\n",
        "\n",
        "for query in queries:\n",
        "  query_length = len(query.split())\n",
        "  if query_length not in queries_set:\n",
        "    queries_set[query_length] = 1\n",
        "  else:\n",
        "    queries_set[query_length] += 1"
      ],
      "execution_count": 24,
      "outputs": []
    },
    {
      "cell_type": "code",
      "metadata": {
        "id": "8lp3Rbvg3Sr7",
        "colab_type": "code",
        "colab": {
          "base_uri": "https://localhost:8080/",
          "height": 51
        },
        "outputId": "506af124-69e5-4813-b88b-2d8740fbc24c"
      },
      "source": [
        "for key, value in queries_set.items():\n",
        "  percent = round(value / sum(queries_set.values()) * 100, 2)\n",
        "  print(f'Поисковых запросов, содержащих {key} слов(а): {percent}%')"
      ],
      "execution_count": 25,
      "outputs": [
        {
          "output_type": "stream",
          "text": [
            "Поисковых запросов, содержащих 3 слов(а): 57.14%\n",
            "Поисковых запросов, содержащих 2 слов(а): 42.86%\n"
          ],
          "name": "stdout"
        }
      ]
    },
    {
      "cell_type": "markdown",
      "metadata": {
        "id": "UZMCT2G_F4hn",
        "colab_type": "text"
      },
      "source": [
        "Задание 3"
      ]
    },
    {
      "cell_type": "code",
      "metadata": {
        "id": "WVE9WAmTF18Z",
        "colab_type": "code",
        "colab": {}
      },
      "source": [
        "results = {\n",
        "'vk': {'revenue': 103, 'cost': 98},\n",
        "'yandex': {'revenue': 179, 'cost': 153},\n",
        "'facebook': {'revenue': 103, 'cost': 110},\n",
        "'adwords': {'revenue': 35, 'cost': 34},\n",
        "'twitter': {'revenue': 11, 'cost': 24},\n",
        "}"
      ],
      "execution_count": 1,
      "outputs": []
    },
    {
      "cell_type": "code",
      "metadata": {
        "id": "CLVbaKycZ4X4",
        "colab_type": "code",
        "colab": {}
      },
      "source": [
        "for result in results.values():\n",
        "  roi = round((result['revenue'] / result['cost'] - 1) * 100, 2)\n",
        "  result['ROI'] = roi"
      ],
      "execution_count": 2,
      "outputs": []
    },
    {
      "cell_type": "code",
      "metadata": {
        "id": "UfbWbeWth9zW",
        "colab_type": "code",
        "colab": {
          "base_uri": "https://localhost:8080/",
          "height": 102
        },
        "outputId": "4b50f879-1902-40a6-af16-388365f53756"
      },
      "source": [
        "results"
      ],
      "execution_count": 3,
      "outputs": [
        {
          "output_type": "execute_result",
          "data": {
            "text/plain": [
              "{'adwords': {'ROI': 2.94, 'cost': 34, 'revenue': 35},\n",
              " 'facebook': {'ROI': -6.36, 'cost': 110, 'revenue': 103},\n",
              " 'twitter': {'ROI': -54.17, 'cost': 24, 'revenue': 11},\n",
              " 'vk': {'ROI': 5.1, 'cost': 98, 'revenue': 103},\n",
              " 'yandex': {'ROI': 16.99, 'cost': 153, 'revenue': 179}}"
            ]
          },
          "metadata": {
            "tags": []
          },
          "execution_count": 3
        }
      ]
    },
    {
      "cell_type": "markdown",
      "metadata": {
        "id": "WDVVIT-IjU2Z",
        "colab_type": "text"
      },
      "source": [
        "Задание 4\n"
      ]
    },
    {
      "cell_type": "code",
      "metadata": {
        "id": "Yf7mEuaUjv-w",
        "colab_type": "code",
        "colab": {}
      },
      "source": [
        "stats = {'facebook': 55, 'yandex': 115, 'vk': 120, 'google': 99, 'email': 42, 'ok': 98}"
      ],
      "execution_count": 216,
      "outputs": []
    },
    {
      "cell_type": "code",
      "metadata": {
        "id": "Sv0X6rnBj4gX",
        "colab_type": "code",
        "colab": {
          "base_uri": "https://localhost:8080/",
          "height": 34
        },
        "outputId": "42c55182-de7e-4f4d-9446-d031eb8cb363"
      },
      "source": [
        "for key, value in stats.items():\n",
        "  if value == max(stats.values()):\n",
        "    print(f'Максимальный объем продаж на рекламном канале: {key}')"
      ],
      "execution_count": 217,
      "outputs": [
        {
          "output_type": "stream",
          "text": [
            "Максимальный объем продаж на рекламном канале: vk\n"
          ],
          "name": "stdout"
        }
      ]
    },
    {
      "cell_type": "markdown",
      "metadata": {
        "id": "p3dTJ6Ko82Ej",
        "colab_type": "text"
      },
      "source": [
        "Задание 5"
      ]
    },
    {
      "cell_type": "code",
      "metadata": {
        "id": "oRpPMx9I841R",
        "colab_type": "code",
        "colab": {}
      },
      "source": [
        "my_list = ['2018-01-01', 'yandex', 'cpc', 100]"
      ],
      "execution_count": 4,
      "outputs": []
    },
    {
      "cell_type": "code",
      "metadata": {
        "id": "EHN9Q-JcRKhE",
        "colab_type": "code",
        "colab": {}
      },
      "source": [
        "my_dict = my_list[-1]"
      ],
      "execution_count": 5,
      "outputs": []
    },
    {
      "cell_type": "code",
      "metadata": {
        "id": "R20jm74bA9Ss",
        "colab_type": "code",
        "colab": {
          "base_uri": "https://localhost:8080/",
          "height": 34
        },
        "outputId": "40d890f4-3b25-4d7c-d7e9-13610f919eaa"
      },
      "source": [
        "for item in reversed(my_list[:-1]):\n",
        "  my_dict = {item: my_dict}\n",
        "\n",
        "my_dict"
      ],
      "execution_count": 6,
      "outputs": [
        {
          "output_type": "execute_result",
          "data": {
            "text/plain": [
              "{'2018-01-01': {'yandex': {'cpc': 100}}}"
            ]
          },
          "metadata": {
            "tags": []
          },
          "execution_count": 6
        }
      ]
    }
  ]
}
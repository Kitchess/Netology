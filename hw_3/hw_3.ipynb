{
  "nbformat": 4,
  "nbformat_minor": 0,
  "metadata": {
    "colab": {
      "name": "hw_3.ipynb",
      "provenance": []
    },
    "kernelspec": {
      "name": "python3",
      "display_name": "Python 3"
    }
  },
  "cells": [
    {
      "cell_type": "markdown",
      "metadata": {
        "id": "7caVQeOc3SQM",
        "colab_type": "text"
      },
      "source": [
        "Задание 1\n"
      ]
    },
    {
      "cell_type": "code",
      "metadata": {
        "id": "JTH35WsG3QwZ",
        "colab_type": "code",
        "colab": {
          "base_uri": "https://localhost:8080/",
          "height": 34
        },
        "outputId": "99b03dd5-dd4c-4eeb-e072-e17acfbeba0b"
      },
      "source": [
        "word = 'testing'\n",
        "half = int(len(word) / 2)\n",
        "\n",
        "if len(word) % 2 == 0:\n",
        "  print(word[half - 1:half + 1])\n",
        "else:\n",
        "  print(word[half])\n"
      ],
      "execution_count": 24,
      "outputs": [
        {
          "output_type": "stream",
          "text": [
            "t\n"
          ],
          "name": "stdout"
        }
      ]
    },
    {
      "cell_type": "markdown",
      "metadata": {
        "id": "qU_lifl193GH",
        "colab_type": "text"
      },
      "source": [
        "Задание 2\n"
      ]
    },
    {
      "cell_type": "code",
      "metadata": {
        "id": "0BHls3gM96lc",
        "colab_type": "code",
        "colab": {
          "base_uri": "https://localhost:8080/",
          "height": 85
        },
        "outputId": "8ef98211-cd0e-43a6-ec23-2d1b72325df0"
      },
      "source": [
        "sum_number = []\n",
        "\n",
        "while True:\n",
        "  number = int(input('Введите число:'))\n",
        "  sum_number.append(number)\n",
        "  if number == 0:\n",
        "    break\n",
        "print(f'Результат: {sum(sum_number)}')\n"
      ],
      "execution_count": 8,
      "outputs": [
        {
          "output_type": "stream",
          "text": [
            "Введите число:1\n",
            "Введите число:2\n",
            "Введите число:0\n",
            "Результат: 3\n"
          ],
          "name": "stdout"
        }
      ]
    },
    {
      "cell_type": "markdown",
      "metadata": {
        "id": "M5YKENEsBDZL",
        "colab_type": "text"
      },
      "source": [
        "Задание 3"
      ]
    },
    {
      "cell_type": "code",
      "metadata": {
        "id": "9xF5qAaEBHON",
        "colab_type": "code",
        "colab": {
          "base_uri": "https://localhost:8080/",
          "height": 119
        },
        "outputId": "b29b2868-c1da-4bc4-e9a8-81503bd9d74c"
      },
      "source": [
        "boys = ['Peter', 'Alex', 'John', 'Arthur', 'Richard']\n",
        "girls = ['Kate', 'Liza', 'Kira', 'Emma', 'Trisha']\n",
        "\n",
        "if len(boys) == len(girls):\n",
        "  print('Идеальные пары:')\n",
        "  for i, j in zip(sorted(boys), sorted(girls)):\n",
        "    print(i + ' ' + 'и' + ' ' + j)\n",
        "else:\n",
        "  print('Внимание, кто-то может остаться без пары!')"
      ],
      "execution_count": 23,
      "outputs": [
        {
          "output_type": "stream",
          "text": [
            "Идеальные пары:\n",
            "Alex и Emma\n",
            "Arthur и Kate\n",
            "John и Kira\n",
            "Peter и Liza\n",
            "Richard и Trisha\n"
          ],
          "name": "stdout"
        }
      ]
    },
    {
      "cell_type": "markdown",
      "metadata": {
        "id": "cuwo3fI5L_ag",
        "colab_type": "text"
      },
      "source": [
        "Задание 4"
      ]
    },
    {
      "cell_type": "code",
      "metadata": {
        "id": "iVF1sHSLMOkI",
        "colab_type": "code",
        "colab": {
          "base_uri": "https://localhost:8080/",
          "height": 119
        },
        "outputId": "2e8c22b4-4fc8-4cdd-e429-0389712d5c6a"
      },
      "source": [
        "countries_temperature = [\n",
        "['Thailand', [75.2, 77, 78.8, 73.4, 68, 75.2, 77]],\n",
        "['Germany', [57.2, 55.4, 59, 59, 53.6]],\n",
        "['Russia', [35.6, 37.4, 39.2, 41, 42.8, 39.2, 35.6]],\n",
        "['Poland', [50, 50, 53.6, 57.2, 55.4, 55.4]]\n",
        "]\n",
        "\n",
        "print('Средняя температура в странах:', '\\n')\n",
        "for country in countries_temperature:\n",
        "  temp = country[1]\n",
        "  mean_temp = sum(temp) / len(temp)\n",
        "  mean_celcius = (mean_temp - 32 )* 5 / 9\n",
        "  print(country[0], '-',  '%.1f' % mean_celcius, 'C')\n",
        "  "
      ],
      "execution_count": 75,
      "outputs": [
        {
          "output_type": "stream",
          "text": [
            "Средняя температура в странах: \n",
            "\n",
            "Thailand - 23.9 C\n",
            "Germany - 13.8 C\n",
            "Russia - 3.7 C\n",
            "Poland - 12.0 C\n"
          ],
          "name": "stdout"
        }
      ]
    },
    {
      "cell_type": "markdown",
      "metadata": {
        "id": "0nvgd1RgZux0",
        "colab_type": "text"
      },
      "source": [
        "Задание 5"
      ]
    },
    {
      "cell_type": "code",
      "metadata": {
        "id": "m3M3j08PZ9_Q",
        "colab_type": "code",
        "colab": {}
      },
      "source": [
        "streams = [\n",
        "'2018-01-01,user1,3',\n",
        "'2018-01-07,user1,4',\n",
        "'2018-03-29,user1,1',\n",
        "'2018-04-04,user1,13',\n",
        "'2018-01-05,user2,7',\n",
        "'2018-06-14,user3,4',\n",
        "'2018-07-02,user3,10',\n",
        "'2018-03-21,user4,19',\n",
        "'2018-03-22,user4,4',\n",
        "'2018-04-22,user4,8',\n",
        "'2018-05-03,user4,9',\n",
        "'2018-05-11,user4,11',\n",
        "]"
      ],
      "execution_count": 32,
      "outputs": []
    },
    {
      "cell_type": "code",
      "metadata": {
        "id": "zEREZQFZOicj",
        "colab_type": "code",
        "colab": {
          "base_uri": "https://localhost:8080/",
          "height": 34
        },
        "outputId": "7405c4f9-cf9c-4f3e-cb88-a2b99bdd0e0c"
      },
      "source": [
        "user_list = []\n",
        "views_list = []\n",
        "\n",
        "for stream in streams:\n",
        "  splitted_stream = stream.split(',')\n",
        "  user = splitted_stream[1]\n",
        "  views = int(splitted_stream[2])\n",
        "  views_list.append(views)\n",
        "  if user not in user_list:\n",
        "    user_list.append(user)\n",
        "\n",
        "mean_views = sum(views_list) / len(user_list)\n",
        "print('Результат:', mean_views )\n",
        "  "
      ],
      "execution_count": 33,
      "outputs": [
        {
          "output_type": "stream",
          "text": [
            "Результат: 23.25\n"
          ],
          "name": "stdout"
        }
      ]
    },
    {
      "cell_type": "markdown",
      "metadata": {
        "id": "eBDFXb0JCJk3",
        "colab_type": "text"
      },
      "source": [
        "Задание 6"
      ]
    },
    {
      "cell_type": "code",
      "metadata": {
        "id": "dysSJlHEHRAY",
        "colab_type": "code",
        "colab": {
          "base_uri": "https://localhost:8080/",
          "height": 51
        },
        "outputId": "692032f8-96a4-46ac-f106-04de00c13fc9"
      },
      "source": [
        "numbers = [int(number) for number in input().split()]\n",
        "numbers_list = [n for n in numbers if numbers.count(n) > 1]\n",
        "numbers_set = set(numbers_list)\n",
        "print(' '.join(str(numbers) for numbers in numbers_set))"
      ],
      "execution_count": 68,
      "outputs": [
        {
          "output_type": "stream",
          "text": [
            "1 2 1 33 33 22\n",
            "1 33\n"
          ],
          "name": "stdout"
        }
      ]
    }
  ]
}
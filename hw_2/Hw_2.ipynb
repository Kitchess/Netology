{
 "cells": [
  {
   "cell_type": "markdown",
   "metadata": {
    "colab_type": "text",
    "id": "74cTVRhUglBQ"
   },
   "source": [
    "Задание 1\n"
   ]
  },
  {
   "cell_type": "code",
   "execution_count": null,
   "metadata": {
    "colab": {
     "base_uri": "https://localhost:8080/",
     "height": 34
    },
    "colab_type": "code",
    "id": "mkfsRft2gtFG",
    "outputId": "ba164d2a-b3cd-491d-9e34-42a0c2a7d648"
   },
   "outputs": [
    {
     "name": "stdout",
     "output_type": "stream",
     "text": [
      "Фразы равной длины\n"
     ]
    }
   ],
   "source": [
    "phrase_1 = 'Съешь еще этих мягких французских булок'\n",
    "phrase_2 = 'Съешь еще этих мягких французских булок'\n",
    "\n",
    "if len(phrase_1) > len(phrase_2):\n",
    "  print('Фраза 1 длиннее фразы 2')\n",
    "elif len(phrase_2) > len(phrase_1):\n",
    "  print('Фраза 2 длиннее фразы 1')\n",
    "else:\n",
    "  print('Фразы равной длины')"
   ]
  },
  {
   "cell_type": "markdown",
   "metadata": {
    "colab_type": "text",
    "id": "eeFrNyIPh8jx"
   },
   "source": [
    "Задание 2\n"
   ]
  },
  {
   "cell_type": "code",
   "execution_count": null,
   "metadata": {
    "colab": {
     "base_uri": "https://localhost:8080/",
     "height": 34
    },
    "colab_type": "code",
    "id": "XZRLdx09h-3a",
    "outputId": "920a0959-0cec-4941-ace0-f76e41938002"
   },
   "outputs": [
    {
     "name": "stdout",
     "output_type": "stream",
     "text": [
      "Високосный год\n"
     ]
    }
   ],
   "source": [
    "year = 2020\n",
    "\n",
    "if (year % 400 == 0) or (year % 4 == 0 and year % 100 !=0):\n",
    "  print('Високосный год')\n",
    "else:\n",
    "  print('Обычный год')"
   ]
  },
  {
   "cell_type": "markdown",
   "metadata": {
    "colab_type": "text",
    "id": "DT2uNnuBpdC6"
   },
   "source": [
    "Задание 3"
   ]
  },
  {
   "cell_type": "code",
   "execution_count": null,
   "metadata": {
    "colab": {},
    "colab_type": "code",
    "id": "6qxfrHnrpfCN"
   },
   "outputs": [],
   "source": [
    "day = int(input(\"Введите день:\"))\n",
    "month = int(input(\"Введите месяц:\"))\n",
    "\n",
    "if (month==3 and day >=21 and day<=31) or (month==4 and day>=1 and day<=19):\n",
    "   print(\"Ваш знак зодиака:Овен\")\n",
    "elif (month==4 and day>=20 and day<=30) or (month==5 and day>=1 and day<=20):\n",
    "   print(\"Ваш знак зодиака:Телец\")\n",
    "elif (month==5 and day>=21 and day<=31) or (month==6 and day>=1 and day<=20):\n",
    "   print(\"Ваш знак зодиака:Близнецы\")\n",
    "elif (month==6 and day>=21 and day<=30) or ( month==7 and day>=1 and day<=22):\n",
    "   print(\"Ваш знак зодиака:Рак\")\n",
    "elif (month==7 and day>=23 and day<=31) or ( month==8 and day>=1 and day<=22):\n",
    "   print(\"Ваш знак зодиака:Лев\")\n",
    "elif (month==8 and day>=23 and day<=31) or ( month==9 and day>=1 and day<=22):\n",
    "   print(\"Ваш знак зодиака:Дева\")\n",
    "elif (month==9 and day>=23 and day<=30) or ( month==10 and day>=1 and day<=22):\n",
    "   print(\"Ваш знак зодиака:Весы\")\n",
    "elif (month==10 and day>=23 and day<=31) or ( month==11 and day>=1 and day<=22):\n",
    "   print(\"Ваш знак зодиака:Скорпион\")\n",
    "elif (month==11 and day>=23 and day<=30) or ( month==12 and day>=1 and day<=21):\n",
    "   print(\"Ваш знак зодиака:Стрелец\")\n",
    "elif (month==12 and day>=22 and day<=31) or ( month==1 and day>=1 and day<=20):\n",
    "   print(\"Ваш знак зодиака:Козерог\")\n",
    "elif (month==1 and day>=21 and day<=31) or ( month==2 and day>=1 and day<=18):\n",
    "   print(\"Ваш знак зодиака:Водолей\")\n",
    "elif (month==2 and day>=19 and day<=29) or ( month==3 and day>=1 and day<=20):\n",
    "   print(\"Ваш знак зодиака:Рыбы\")"
   ]
  },
  {
   "cell_type": "markdown",
   "metadata": {
    "colab_type": "text",
    "id": "nsuNZK3TrZxs"
   },
   "source": [
    "Задание 4\n"
   ]
  },
  {
   "cell_type": "code",
   "execution_count": null,
   "metadata": {
    "colab": {
     "base_uri": "https://localhost:8080/",
     "height": 34
    },
    "colab_type": "code",
    "id": "xcZZ5Tu7rHz3",
    "outputId": "b14acc41-02c7-4509-db84-08be19d01861"
   },
   "outputs": [
    {
     "name": "stdout",
     "output_type": "stream",
     "text": [
      "Коробка №2\n"
     ]
    }
   ],
   "source": [
    "width = 15\n",
    "length = 100\n",
    "height = 10\n",
    "\n",
    "if width < 15 and length < 15 and height < 15:\n",
    "  print('Коробка №1')\n",
    "elif ((width >= 15 and width < 50)\\\n",
    " or (length >= 15 and length < 50)\\\n",
    " or (height >= 15 and height < 50))\\\n",
    " and length <= 200:\n",
    "  print('Коробка №2')\n",
    "elif length > 200:\n",
    "  print('Упаковка для лыж')\n",
    "else:\n",
    "  print('Стандартная коробка №3')"
   ]
  },
  {
   "cell_type": "markdown",
   "metadata": {
    "colab_type": "text",
    "id": "iCnOKGs0uqlc"
   },
   "source": [
    "Задание 5 (1 вариант)"
   ]
  },
  {
   "cell_type": "code",
   "execution_count": null,
   "metadata": {
    "colab": {
     "base_uri": "https://localhost:8080/",
     "height": 34
    },
    "colab_type": "code",
    "id": "icPL5-B8utBt",
    "outputId": "d2506021-1b5f-4f76-beec-aebb197cff39"
   },
   "outputs": [
    {
     "name": "stdout",
     "output_type": "stream",
     "text": [
      "Счастливый билет\n"
     ]
    }
   ],
   "source": [
    "number = 111111\n",
    "number_to_list = [int(x) for x in str(number)]\n",
    "\n",
    "if sum(number_to_list[:3]) == sum(number_to_list[3:]):\n",
    "  print('Счастливый билет')\n",
    "else:\n",
    "  print('Несчастливый билет')"
   ]
  },
  {
   "cell_type": "markdown",
   "metadata": {
    "colab_type": "text",
    "id": "vHEkqzaXClTJ"
   },
   "source": [
    "Задание 5 (2 вариант)"
   ]
  },
  {
   "cell_type": "code",
   "execution_count": null,
   "metadata": {
    "colab": {
     "base_uri": "https://localhost:8080/",
     "height": 34
    },
    "colab_type": "code",
    "id": "1USrdJGdCona",
    "outputId": "eabed139-ffbc-42cb-e453-218fc546eb76"
   },
   "outputs": [
    {
     "name": "stdout",
     "output_type": "stream",
     "text": [
      "Несчастливый билет\n"
     ]
    }
   ],
   "source": [
    "number = 123322\n",
    "\n",
    "n_1 = int(number // 100000 % 10)\n",
    "n_2 = int(number // 10000 % 10)\n",
    "n_3 = int(number // 1000 % 10 )\n",
    "n_4 = int(number // 100 % 10)\n",
    "n_5 = int(number // 10 % 10)\n",
    "n_6 = int(number // 1 % 10)\n",
    "\n",
    "if (n_1 + n_2 + n_3) == (n_4 + n_5 + n_6):\n",
    "  print('Счастливый билет')\n",
    "else:\n",
    "  print('Несчастливый билет')"
   ]
  },
  {
   "cell_type": "markdown",
   "metadata": {
    "colab_type": "text",
    "id": "lMEj-x3DMYGQ"
   },
   "source": [
    "Задание 6\n"
   ]
  },
  {
   "cell_type": "code",
   "execution_count": 18,
   "metadata": {
    "colab": {
     "base_uri": "https://localhost:8080/",
     "height": 85
    },
    "colab_type": "code",
    "id": "XhFdjZBlMZy0",
    "outputId": "99cb8e1b-420f-4d30-99be-57f693301b48"
   },
   "outputs": [
    {
     "name": "stdout",
     "output_type": "stream",
     "text": [
      "Введите тип фигуры: круг, прямоугольник или треугольник: прямоугольник\n",
      "Введите длину стороны A:12\n",
      "Введите длину стороны B:20\n",
      "240\n"
     ]
    }
   ],
   "source": [
    "figure = input(\"Введите тип фигуры: круг, прямоугольник или треугольник: \")\n",
    "\n",
    "if figure == 'круг':\n",
    "  radius = int(input('Введите радиус круга: '))\n",
    "  circle_area = 3.14 * radius**2\n",
    "  print(circle_area)\n",
    "elif figure == 'треугольник':\n",
    "  a = int(input('Введите длину стороны A:'))\n",
    "  b = int(input('Введите длину стороны B:'))\n",
    "  c = int(input('Введите длину стороны C:'))\n",
    "  p = (a + b + c) / 2\n",
    "  triangle_area = (p * (p - a) * (p - b) * (p - c)) ** 0.5\n",
    "  print(triangle_area)\n",
    "elif figure == 'прямоугольник':\n",
    "  a = int(input('Введите длину стороны A:'))\n",
    "  b = int(input('Введите длину стороны B:'))\n",
    "  rectangle_area = a * b\n",
    "  print(rectangle_area)"
   ]
  }
 ],
 "metadata": {
  "colab": {
   "name": "Hw_2",
   "provenance": []
  },
  "kernelspec": {
   "display_name": "Python 3",
   "language": "python",
   "name": "python3"
  },
  "language_info": {
   "codemirror_mode": {
    "name": "ipython",
    "version": 3
   },
   "file_extension": ".py",
   "mimetype": "text/x-python",
   "name": "python",
   "nbconvert_exporter": "python",
   "pygments_lexer": "ipython3",
   "version": "3.8.3"
  }
 },
 "nbformat": 4,
 "nbformat_minor": 1
}
